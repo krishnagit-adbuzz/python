{
 "cells": [
  {
   "cell_type": "markdown",
   "id": "8e5beed2",
   "metadata": {},
   "source": [
    "# Collections"
   ]
  },
  {
   "cell_type": "code",
   "execution_count": 1,
   "id": "e2e668e8",
   "metadata": {},
   "outputs": [],
   "source": [
    "#namedtuple\n",
    "#chainmap\n",
    "#deque\n",
    "#counter\n",
    "#ordereddictionay\n",
    "#defaultdict\n",
    "#UserDict\n",
    "#UserString\n",
    "#UserList"
   ]
  },
  {
   "cell_type": "code",
   "execution_count": 5,
   "id": "cf207afc",
   "metadata": {},
   "outputs": [
    {
     "data": {
      "text/plain": [
       "Courses(name='AI', technology='R')"
      ]
     },
     "execution_count": 5,
     "metadata": {},
     "output_type": "execute_result"
    }
   ],
   "source": [
    "#nameedtuple returns a tuple with a named value for each. element in the tuple\n",
    "from collections import namedtuple\n",
    "a = namedtuple('Courses','name,technology')\n",
    "s = a('DS','Python')\n",
    "#another way\n",
    "tuple_from_list = a._make([\"AI\",\"R\"])\n",
    "tuple_from_list"
   ]
  },
  {
   "cell_type": "code",
   "execution_count": 12,
   "id": "f07343de",
   "metadata": {},
   "outputs": [
    {
     "data": {
      "text/plain": [
       "'R'"
      ]
     },
     "execution_count": 12,
     "metadata": {},
     "output_type": "execute_result"
    }
   ],
   "source": [
    "tuple_from_list.name\n",
    "tuple_from_list[1]"
   ]
  },
  {
   "cell_type": "code",
   "execution_count": 17,
   "id": "7d05a1fc",
   "metadata": {},
   "outputs": [
    {
     "data": {
      "text/plain": [
       "'R'"
      ]
     },
     "execution_count": 17,
     "metadata": {},
     "output_type": "execute_result"
    }
   ],
   "source": [
    "#Deque pronounced as deck is an optimized list to perform insertion and deletion easily\n",
    "from collections import deque\n",
    "a = [\"edu\",'reka']\n",
    "d = deque(a)\n",
    "d.append(\"python\")\n",
    "d.appendleft(\"R\")\n",
    "d.pop()\n",
    "d.popleft()"
   ]
  },
  {
   "cell_type": "code",
   "execution_count": 18,
   "id": "e64a7969",
   "metadata": {},
   "outputs": [
    {
     "data": {
      "text/plain": [
       "ChainMap({1: 'a', 2: 'b'}, {3: 'c', 4: 'd', 2: 'e'})"
      ]
     },
     "execution_count": 18,
     "metadata": {},
     "output_type": "execute_result"
    }
   ],
   "source": [
    "#chainmap is a dictionary like class for creating a single view of multiple mappings\n",
    "from collections import ChainMap\n",
    "a = {1:'a',2:'b'}\n",
    "b = {3:\"c\",4:'d',2:'e'}\n",
    "a1 = ChainMap(a,b)\n",
    "a1"
   ]
  },
  {
   "cell_type": "code",
   "execution_count": 20,
   "id": "06e1f2b4",
   "metadata": {},
   "outputs": [
    {
     "data": {
      "text/plain": [
       "KeysView(ChainMap({1: 'a', 2: 'b'}, {3: 'c', 4: 'd', 2: 'e'}))"
      ]
     },
     "execution_count": 20,
     "metadata": {},
     "output_type": "execute_result"
    }
   ],
   "source": [
    "a1.keys()"
   ]
  },
  {
   "cell_type": "code",
   "execution_count": 21,
   "id": "848b55ee",
   "metadata": {},
   "outputs": [
    {
     "data": {
      "text/plain": [
       "collections.ChainMap"
      ]
     },
     "execution_count": 21,
     "metadata": {},
     "output_type": "execute_result"
    }
   ],
   "source": [
    "type(a1)"
   ]
  },
  {
   "cell_type": "code",
   "execution_count": 23,
   "id": "776f5d25",
   "metadata": {},
   "outputs": [
    {
     "name": "stdout",
     "output_type": "stream",
     "text": [
      "3\n",
      "4\n",
      "2\n",
      "1\n"
     ]
    }
   ],
   "source": [
    "for x in a1:\n",
    "    print(x)"
   ]
  },
  {
   "cell_type": "code",
   "execution_count": 28,
   "id": "fd530374",
   "metadata": {},
   "outputs": [
    {
     "name": "stdout",
     "output_type": "stream",
     "text": [
      "d\n"
     ]
    }
   ],
   "source": [
    "print(a1[4])"
   ]
  },
  {
   "cell_type": "code",
   "execution_count": 37,
   "id": "5ae0b0cb",
   "metadata": {},
   "outputs": [
    {
     "data": {
      "text/plain": [
       "[(1, 3), (3, 3), (2, 2), (4, 1), (5, 0), (6, -2)]"
      ]
     },
     "execution_count": 37,
     "metadata": {},
     "output_type": "execute_result"
    }
   ],
   "source": [
    "# Counter is a dictionary subclass for counting hashable subclass\n",
    "from collections import Counter\n",
    "a = [1,2,3,1,2,3,4,5,1,2,3]\n",
    "ac = Counter(a)\n",
    "ac\n",
    "ae = list(ac.elements())\n",
    "ae\n",
    "amc = ac.most_common()\n",
    "amc\n",
    "\n",
    "sub = {2:1,6:1,5:1}\n",
    "\n",
    "ac.subtract(sub)\n",
    "\n",
    "ac.most_common()\n",
    "\n",
    "\n",
    "sub = {6:1}\n",
    "\n",
    "ac.subtract(sub)\n",
    "\n",
    "ac.most_common()"
   ]
  },
  {
   "cell_type": "code",
   "execution_count": 38,
   "id": "3d107811",
   "metadata": {},
   "outputs": [
    {
     "data": {
      "text/plain": [
       "OrderedDict([(1, 'a'), (2, 'b')])"
      ]
     },
     "execution_count": 38,
     "metadata": {},
     "output_type": "execute_result"
    }
   ],
   "source": [
    "# Ordered Dictionary is a dictionary subclass which remembers the order in which the entries were done\n",
    "\n",
    "from collections import OrderedDict\n",
    "d = OrderedDict()\n",
    "d[1] = \"a\"\n",
    "d[2] = \"b\"\n",
    "d"
   ]
  },
  {
   "cell_type": "code",
   "execution_count": 42,
   "id": "f4bd2a99",
   "metadata": {},
   "outputs": [
    {
     "data": {
      "text/plain": [
       "OrderedDict([(1, 'a'), (2, 'e')])"
      ]
     },
     "execution_count": 42,
     "metadata": {},
     "output_type": "execute_result"
    }
   ],
   "source": [
    "d[2]= 'e'\n",
    "d"
   ]
  },
  {
   "cell_type": "code",
   "execution_count": 50,
   "id": "4df5ffe3",
   "metadata": {},
   "outputs": [
    {
     "data": {
      "text/plain": [
       "defaultdict(str, {'car': 'Honda', 'year': 1999})"
      ]
     },
     "execution_count": 50,
     "metadata": {},
     "output_type": "execute_result"
    }
   ],
   "source": [
    "# default dectionary. is a subclass which calls a factory function to supply missing values\n",
    "\n",
    "from collections import defaultdict\n",
    "\n",
    "dict_std = {1:'a',2:'b'}\n",
    "\n",
    "dict_std[2]\n",
    "\n",
    "dict_def = defaultdict(str)\n",
    "\n",
    "dict_def['car'] = \"Honda\"\n",
    "dict_def['year'] = 1999\n",
    "\n",
    "dict_def\n"
   ]
  },
  {
   "cell_type": "code",
   "execution_count": 52,
   "id": "f0629149",
   "metadata": {},
   "outputs": [
    {
     "data": {
      "text/plain": [
       "''"
      ]
     },
     "execution_count": 52,
     "metadata": {},
     "output_type": "execute_result"
    }
   ],
   "source": [
    "dict_def[3]"
   ]
  },
  {
   "cell_type": "code",
   "execution_count": 53,
   "id": "003f47f5",
   "metadata": {},
   "outputs": [],
   "source": [
    "# User Dictionary is a wrapper around dictionary objects for easier ditionary sub classing\n"
   ]
  },
  {
   "cell_type": "code",
   "execution_count": 54,
   "id": "0b6cc20c",
   "metadata": {},
   "outputs": [],
   "source": [
    "# User List is a wrapper around List objects for easier list sub classing"
   ]
  },
  {
   "cell_type": "code",
   "execution_count": null,
   "id": "532292fb",
   "metadata": {},
   "outputs": [],
   "source": [
    "# User string is a wrapper around string objects for easier string sub classing"
   ]
  }
 ],
 "metadata": {
  "kernelspec": {
   "display_name": "Python 3 (ipykernel)",
   "language": "python",
   "name": "python3"
  },
  "language_info": {
   "codemirror_mode": {
    "name": "ipython",
    "version": 3
   },
   "file_extension": ".py",
   "mimetype": "text/x-python",
   "name": "python",
   "nbconvert_exporter": "python",
   "pygments_lexer": "ipython3",
   "version": "3.9.13"
  }
 },
 "nbformat": 4,
 "nbformat_minor": 5
}
